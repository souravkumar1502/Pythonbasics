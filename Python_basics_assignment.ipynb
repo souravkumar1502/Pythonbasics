{
  "nbformat": 4,
  "nbformat_minor": 0,
  "metadata": {
    "colab": {
      "provenance": []
    },
    "kernelspec": {
      "name": "python3",
      "display_name": "Python 3"
    },
    "language_info": {
      "name": "python"
    }
  },
  "cells": [
    {
      "cell_type": "code",
      "execution_count": null,
      "metadata": {
        "id": "AeWsMBRHwPus"
      },
      "outputs": [],
      "source": []
    },
    {
      "cell_type": "markdown",
      "source": [],
      "metadata": {
        "id": "ZbW0x62WlcIl"
      }
    },
    {
      "cell_type": "markdown",
      "source": [
        "# New Section"
      ],
      "metadata": {
        "id": "A30BU2kQdP0p"
      }
    },
    {
      "cell_type": "markdown",
      "source": [
        "## **Python Basics Questions**\n",
        "**1.** **What is Python, and why is it popular?**\n",
        "\n",
        "   - Python is a high-level language programing language, known for its ease of use , extensive libraries and versatility.\n",
        "  -python is popular for following reasons\n",
        "  1. Easy to learn and use\n",
        "  2. Simplicity and readability\n",
        "  3. Versatile\n",
        "  4. Large community and ecosystem (extensive libraries).\n",
        "\n",
        "**2. What is an interpreter in Python?**  \n",
        "    - In Python, an interpreter is a program that reads and executes Python codes line by line, allowing you to see the result immediatly. Unlike compiler, which translates the entire code into machine language before execution, Interpreter translate and execute code at runtime.\n",
        "\n",
        "  Working process of interpreter\n",
        "  1. Reading and translating code.\n",
        "  2. Executing.\n",
        "  3. Immidiate result.\n",
        "\n",
        "\n",
        "**3.  What are pre-defined keywords in Python?**\n",
        "\n",
        "\n",
        "  - Pre-defined keywords in python are reserved words that have special meaning and purpose in the language. you can't use them as variable names, function names, or identifiers because  they are the Python syntax.\n",
        "\n",
        "   Some of the examples are False, None, True, and, as, assert, async, await, break, class, continue, def, del, elif, else, except, finally, for, from, global, if, import, in, is, lambda, nonlocal, not, or, pass, raise, return, try, while, with, and yield.\n",
        "\n",
        "\n",
        "\n",
        "  \n",
        "\n",
        "\n",
        "\n",
        "\n",
        "\n",
        "\n"
      ],
      "metadata": {
        "id": "kLTJPac7wYpm"
      }
    },
    {
      "cell_type": "markdown",
      "source": [
        "**4. Can keywords be used as variable names ?**\n",
        "  - No, keywords cannot be used as variables names in Python.\n",
        "  Keywords are reserved words with special meanings that are used by the compiler or interpreter to understand the structure and syntax of the code. Using a keyword as a variable name would create ambiguity and could lead to syntaxerrors.\n",
        "\n",
        "  Example -\n",
        "  "
      ],
      "metadata": {
        "id": "oC1Zk1RXpZs-"
      }
    },
    {
      "cell_type": "code",
      "source": [
        "def = 10\n",
        "print(def)\n"
      ],
      "metadata": {
        "colab": {
          "base_uri": "https://localhost:8080/",
          "height": 106
        },
        "id": "kKq-LNrNrGr3",
        "outputId": "550a2f3c-ff19-416e-e34d-a8a6fcb95faa"
      },
      "execution_count": null,
      "outputs": [
        {
          "output_type": "error",
          "ename": "SyntaxError",
          "evalue": "invalid syntax (<ipython-input-1-10c66231acbb>, line 1)",
          "traceback": [
            "\u001b[0;36m  File \u001b[0;32m\"<ipython-input-1-10c66231acbb>\"\u001b[0;36m, line \u001b[0;32m1\u001b[0m\n\u001b[0;31m    def = 10\u001b[0m\n\u001b[0m        ^\u001b[0m\n\u001b[0;31mSyntaxError\u001b[0m\u001b[0;31m:\u001b[0m invalid syntax\n"
          ]
        }
      ]
    },
    {
      "cell_type": "markdown",
      "source": [
        "**5. What is mutability in Python ?**\n",
        "  - Mutability in Python refers to the ability of an object to be modified after it's created. If an object is mutable, its value can be changed in place without creating a new object. This means that operations on a mutable object can directly affect its contents.\n",
        "    1. Mutable objects- can be changed in place.\n",
        "      - Examples :  list, dist, set, bytearray.\n",
        "    2. immutable objects- Cannot be changed after creation.\n",
        "      - Examples: int, float, str, tuple, bool, frozenset.\n",
        "\n",
        "**6. Why are lists mutable, but tuples are immutable?**\n",
        "  - The main reason list are mutable and tuples are immutables in python comes down to design choices based on use cases and performances.\n",
        "    1. Mutability of list\n",
        "    - List are meant to be flexible containers.\n",
        "    - You can add, remove, or change element after the list is created.\n",
        "    - Example\n"
      ],
      "metadata": {
        "id": "feC73EY_ll26"
      }
    },
    {
      "cell_type": "code",
      "source": [
        "a = [1, 2, 3, 4, 5, 6, 7, 8, 9]\n",
        "\n",
        "# Modifying an element in the list `a`\n",
        "a[3] = 77\n",
        "print(a)\n",
        "\n",
        "#this makes list ideal for situations where the data needs to change dynamically\n"
      ],
      "metadata": {
        "colab": {
          "base_uri": "https://localhost:8080/"
        },
        "id": "LvrGwRj-6sU8",
        "outputId": "a819eb16-2840-48d1-f9c0-0922d723b1f2"
      },
      "execution_count": null,
      "outputs": [
        {
          "output_type": "stream",
          "name": "stdout",
          "text": [
            "[1, 2, 3, 77, 5, 6, 7, 8, 9]\n"
          ]
        }
      ]
    },
    {
      "cell_type": "markdown",
      "source": [
        "  2. Immutability of tuples\n",
        "  - Tuples are designed to be fixed collection of items\n",
        "  - Once created, their content cannot be changed.\n",
        "  -example:"
      ],
      "metadata": {
        "id": "BPQ-G-jOrp0c"
      }
    },
    {
      "cell_type": "code",
      "source": [
        "b = (0, 1, 2, 3)\n",
        "\n",
        "# Attempting to modify a tuple\n",
        "b[0] = 4\n",
        "print(b)\n",
        "\n",
        "# Tuples do not support item assignment, making them immutable. This prevents unintended modifications."
      ],
      "metadata": {
        "colab": {
          "base_uri": "https://localhost:8080/",
          "height": 193
        },
        "id": "y8ax8Ev59UfX",
        "outputId": "720cdb4d-88d8-47d0-c971-3ee89902b514"
      },
      "execution_count": null,
      "outputs": [
        {
          "output_type": "error",
          "ename": "TypeError",
          "evalue": "'tuple' object does not support item assignment",
          "traceback": [
            "\u001b[0;31m---------------------------------------------------------------------------\u001b[0m",
            "\u001b[0;31mTypeError\u001b[0m                                 Traceback (most recent call last)",
            "\u001b[0;32m<ipython-input-10-48bf59e26eb5>\u001b[0m in \u001b[0;36m<cell line: 0>\u001b[0;34m()\u001b[0m\n\u001b[1;32m      2\u001b[0m \u001b[0;34m\u001b[0m\u001b[0m\n\u001b[1;32m      3\u001b[0m \u001b[0;31m# Attempting to modify a tuple\u001b[0m\u001b[0;34m\u001b[0m\u001b[0;34m\u001b[0m\u001b[0m\n\u001b[0;32m----> 4\u001b[0;31m \u001b[0mb\u001b[0m\u001b[0;34m[\u001b[0m\u001b[0;36m0\u001b[0m\u001b[0;34m]\u001b[0m \u001b[0;34m=\u001b[0m \u001b[0;36m4\u001b[0m\u001b[0;34m\u001b[0m\u001b[0;34m\u001b[0m\u001b[0m\n\u001b[0m\u001b[1;32m      5\u001b[0m \u001b[0mprint\u001b[0m\u001b[0;34m(\u001b[0m\u001b[0mb\u001b[0m\u001b[0;34m)\u001b[0m\u001b[0;34m\u001b[0m\u001b[0;34m\u001b[0m\u001b[0m\n",
            "\u001b[0;31mTypeError\u001b[0m: 'tuple' object does not support item assignment"
          ]
        }
      ]
    },
    {
      "cell_type": "markdown",
      "source": [
        "- Immutability makes tuples:\n",
        "  - Hashable, so they can be used as key in dictionaries.\n",
        "  - More memory-efficient and faster than lists of fixed-sized data.\n",
        "  - Safer for representing constant data  (e.g., coordinates, RGB values)\n",
        "  "
      ],
      "metadata": {
        "id": "vo3uOx6e9fBI"
      }
    },
    {
      "cell_type": "markdown",
      "source": [
        "**7. What is the difference between “==” and “is” operators in Python?**\n",
        "  -The difference between the == and is operators in Python lies in what they compare:\n",
        "  - == (Equality operators): This operator checks for equality of value. It returns True if the values of the two operands are the same, even if they are stored in different memory locations.\n",
        "  "
      ],
      "metadata": {
        "id": "LJd8yCGX-62c"
      }
    },
    {
      "cell_type": "code",
      "source": [
        "#Example:\n",
        "a = (1, 2, 3)\n",
        "b = (1, 2, 3)\n",
        "print(a == b)\n",
        "#true, because their content are same"
      ],
      "metadata": {
        "colab": {
          "base_uri": "https://localhost:8080/"
        },
        "id": "2jshUYDXAhop",
        "outputId": "d3f5b4fb-6cd0-47a9-cd4e-0a2779a0e1a3"
      },
      "execution_count": null,
      "outputs": [
        {
          "output_type": "stream",
          "name": "stdout",
          "text": [
            "True\n"
          ]
        }
      ]
    },
    {
      "cell_type": "markdown",
      "source": [
        "  - is (Identity operator): This operator checks for identity. It returns True if two operands refer to the exact same object in memory."
      ],
      "metadata": {
        "id": "90_sALMhBH_f"
      }
    },
    {
      "cell_type": "code",
      "source": [
        "#example:\n",
        "a = (1, 2, 3)\n",
        "b = (1, 2, 3)\n",
        "print(a is b)\n",
        "#false, because they are stored in different memory locations."
      ],
      "metadata": {
        "colab": {
          "base_uri": "https://localhost:8080/"
        },
        "id": "VRn2pdq3BN6E",
        "outputId": "6575c103-e138-485f-a6a7-edd22e27d963"
      },
      "execution_count": null,
      "outputs": [
        {
          "output_type": "stream",
          "name": "stdout",
          "text": [
            "False\n"
          ]
        }
      ]
    },
    {
      "cell_type": "code",
      "source": [
        "#example:\n",
        "a = b =(1, 2, 3)\n",
        "print(a is b)\n",
        "\n",
        "#True, because both refer to the same object"
      ],
      "metadata": {
        "colab": {
          "base_uri": "https://localhost:8080/"
        },
        "id": "RU6rLyYMBqbO",
        "outputId": "5f341d64-d9de-45f5-ac58-474f8aef30db"
      },
      "execution_count": null,
      "outputs": [
        {
          "output_type": "stream",
          "name": "stdout",
          "text": [
            "True\n"
          ]
        }
      ]
    },
    {
      "cell_type": "markdown",
      "source": [
        "**8. What are logical operators in Python?**\n",
        "  - Logical operators in python are used to combine conditional statement (i.e., boolean expressions).There are three main logical operators: and, or, and not.\n",
        "    - and: Returns True if both conditions are True. Otherwise, it returns False.\n",
        "   - or: Returns True if at least one of the conditions is True. It returns  False only if both conditions are False.\n",
        "    - not: Returns the opposite boolean value of the condition. If the condition is True, not returns False, and vice versa.\n",
        "\n"
      ],
      "metadata": {
        "id": "jMwsKqxoCKTP"
      }
    },
    {
      "cell_type": "code",
      "source": [
        "#Example:\n",
        "#and :\n",
        "a = 5\n",
        "print(a > 2 and a < 10)\n",
        "#true, both condition are true\n",
        "\n",
        "#or\n",
        "a = 5\n",
        "print(a > 2 or a < 10)\n",
        "#true, one condition is true\n",
        "\n",
        "#not\n",
        "a = 5\n",
        "print(not(a > 2 and a < 10))\n",
        "#False because a < 10 is true, and makes it false\n"
      ],
      "metadata": {
        "colab": {
          "base_uri": "https://localhost:8080/"
        },
        "id": "mC4jFjHcEwCb",
        "outputId": "f0e569ca-cd3f-4361-91fd-a2715fdfbcce"
      },
      "execution_count": null,
      "outputs": [
        {
          "output_type": "stream",
          "name": "stdout",
          "text": [
            "True\n",
            "True\n",
            "False\n"
          ]
        }
      ]
    },
    {
      "cell_type": "markdown",
      "source": [
        "**9. What is type casting in Python?**\n",
        "  - Type casting in Python is the process of converting a value from one data type to another. It allows you to change the type of a variable to suit your needs, such as turning a string into an integer or a float into a string.\n",
        "\n",
        "  **Python supports two types of type casting:**\n",
        "    - **Implicit type casting:** This type of casting is performed automatically by the Python interpreter. It occurs when an operation is performed between two variables of different data types, and Python automatically converts one of the variables to the other's type.\n",
        "    - **Explicit type casting:** This type of casting is performed manually by the programmer using built-in functions. It is used when you need to convert a variable to a specific data type, and Python does not do it automatically."
      ],
      "metadata": {
        "id": "YeLZfuBMG2rl"
      }
    },
    {
      "cell_type": "code",
      "source": [
        "#Example of implicit  type casting (automatic)\n",
        "x = 5\n",
        "y = 10\n",
        "result = x + y    #x is implicitly cast to float\n",
        "print(result)     # output : 15\n",
        "\n",
        "#Example of Explicit type casting (manual)\n",
        "a = \"123\"\n",
        "b = int(a)        # cast string to integer\n",
        "print(b + 1)      # output : 124"
      ],
      "metadata": {
        "colab": {
          "base_uri": "https://localhost:8080/"
        },
        "id": "xlwnuy3hl1_B",
        "outputId": "2340e0d1-82bd-45dc-c1d5-730b776a1a37"
      },
      "execution_count": 5,
      "outputs": [
        {
          "output_type": "stream",
          "name": "stdout",
          "text": [
            "15\n",
            "124\n"
          ]
        }
      ]
    },
    {
      "cell_type": "markdown",
      "source": [
        "**10. What is the difference between implicit and explicit type casting?**\n",
        "  - **Implicit Type Casting** : The Python interpreter automatically performs implicit type casting without the programmer's intervention. It usually happens when performing operations involving different data types, converting one type to another to avoid data loss. For instance, when adding an integer and a float, Python implicitly converts the integer to a float before performing the addition, resulting in a float output.\n",
        "      - Automatically performed by Python\n",
        "      - Happens when python converts one data type to another during an operation\n",
        "      - Generally occurs between compatible type (e.g., int to float).\n",
        "\n",
        "  -**Explicit Type Casting**: The programmer manually converts the data type using built-in functions like int(), float(), str(), etc. This is necessary when you need to control the data type conversion or when implicit conversion is not possible.\n",
        "      - Manually done by the programmer.\n",
        "      - used when you need to convert between incompatible types or to control the conversion.\n",
        "      - May cause data loss.\n",
        "      "
      ],
      "metadata": {
        "id": "FFxU1BwioFr2"
      }
    },
    {
      "cell_type": "code",
      "source": [
        "#Example of Implicit type casting:\n",
        "a = 5             # int\n",
        "b = 3             #float\n",
        "c = a + b         #\"a\" is implicitily cast to float\n",
        "print(c)          #output : 8\n",
        "print(type(c))    #<class 'float'>\n",
        "\n",
        "\n",
        "# Example of Explict type casting:\n",
        "x = 10.6\n",
        "y = int(x)   # float to int explicitly (fractional part is lost)\n",
        "print(y)     # Output: 10"
      ],
      "metadata": {
        "colab": {
          "base_uri": "https://localhost:8080/"
        },
        "id": "4hz5gyiEsyOH",
        "outputId": "fdc18b71-43c9-47be-d1be-64cce8ca21e5"
      },
      "execution_count": 8,
      "outputs": [
        {
          "output_type": "stream",
          "name": "stdout",
          "text": [
            "8\n",
            "<class 'int'>\n",
            "10\n"
          ]
        }
      ]
    },
    {
      "cell_type": "markdown",
      "source": [
        "11. ** What is the purpose of conditional statements in Python?**\n",
        "    -  Conditional statements in Python enable programs to make decisions by executing different code blocks based on whether certain conditions are met. They control the flow of execution, allowing programs to respond dynamically to various situations. The primary conditional statements in Python are if, elif (else if), and else.\n",
        "  \n",
        "    These statements help control the flow of the program. The most common conditional statements in Python are:\n",
        "\n",
        "   - if – Executes a block of code if a condition is true.\n",
        "\n",
        "   - elif – Tests another condition if the previous if or elif was false.\n",
        "\n",
        "   - else – Executes a block of code if none of the above conditions are true."
      ],
      "metadata": {
        "id": "pX5AiFXOvzZ7"
      }
    },
    {
      "cell_type": "code",
      "source": [
        "#Example\n",
        "age = 17\n",
        "if age >= 18:\n",
        "    print(\"You are an adult.\")\n",
        "else:\n",
        "    print(\"You are a minor.\")"
      ],
      "metadata": {
        "colab": {
          "base_uri": "https://localhost:8080/"
        },
        "id": "a7d3JnYDxQ_9",
        "outputId": "705d245a-06ed-4384-e95f-0d6204fdb061"
      },
      "execution_count": 11,
      "outputs": [
        {
          "output_type": "stream",
          "name": "stdout",
          "text": [
            "You are a minor.\n"
          ]
        }
      ]
    },
    {
      "cell_type": "markdown",
      "source": [
        "**12. How does the elif statement work?**\n",
        "- elif stand for \"else if\". It can be used in conditional statements to check for multiple conditions. For example, if the first condition is false, it moves on to the next “elif” statement to check if that condition is true.\n"
      ],
      "metadata": {
        "id": "SEJ-x7WBxsZw"
      }
    },
    {
      "cell_type": "code",
      "source": [
        "#Example\n",
        "score = 85\n",
        "if score >= 90:\n",
        "    print(\"Grade: A\")\n",
        "elif score >= 80:\n",
        "    print(\"Grade: B\")\n",
        "elif score >= 70:\n",
        "    print(\"Grade: C\")"
      ],
      "metadata": {
        "colab": {
          "base_uri": "https://localhost:8080/"
        },
        "id": "4Z9rcXNczMPg",
        "outputId": "5cf8cc36-1309-4cdb-ca0a-be4eb167bc56"
      },
      "execution_count": 12,
      "outputs": [
        {
          "output_type": "stream",
          "name": "stdout",
          "text": [
            "Grade: B\n"
          ]
        }
      ]
    },
    {
      "cell_type": "markdown",
      "source": [
        "**13.  What is the difference between for and while loops?**\n",
        "  - The for and while loops are control flow structures used for repeated execution of a block of code, but they are used in different scenarios:\n",
        "      1. **For loop**: The for loop is designed for iterating over a sequence (like a list, tuple, string, or range) or other iterable objects. It executes the code block once for each item in the sequence. The number of iterations is known in advance.\n",
        "\n",
        "      - Used when you know beforehand how many times you want to iterate.\n",
        "      - Often used to iterate over a sequence like a list, tuple, string, or range.\n",
        "\n",
        "      2. **while loop**: The while loop repeatedly executes a block of code as long as a given condition is true. The number of iterations is not known beforehand and depends on when the condition becomes false.\n",
        "\n",
        "        - Used when you don’t know in advance how many times to iterate.\n",
        "        - Continues looping as long as a condition is true.\n",
        "\n",
        "\n"
      ],
      "metadata": {
        "id": "muySTzCczebu"
      }
    },
    {
      "cell_type": "code",
      "source": [
        "#Example \"for loop\"\n",
        "for i in range(5):\n",
        "    print(i)\n",
        "\n",
        "\n"
      ],
      "metadata": {
        "colab": {
          "base_uri": "https://localhost:8080/"
        },
        "id": "XhJsRh442IGu",
        "outputId": "bc2573fd-9657-496e-eabd-0260c9a04671"
      },
      "execution_count": 14,
      "outputs": [
        {
          "output_type": "stream",
          "name": "stdout",
          "text": [
            "0\n",
            "1\n",
            "2\n",
            "3\n",
            "4\n"
          ]
        }
      ]
    },
    {
      "cell_type": "code",
      "source": [
        "#Example \"while loop\"\n",
        "i = 0\n",
        "while i < 5:\n",
        "    print(i)\n",
        "    i += 1"
      ],
      "metadata": {
        "colab": {
          "base_uri": "https://localhost:8080/"
        },
        "id": "BLkmgGjz2wJE",
        "outputId": "3e04b280-a60f-415e-be57-68e2d2476e26"
      },
      "execution_count": 15,
      "outputs": [
        {
          "output_type": "stream",
          "name": "stdout",
          "text": [
            "0\n",
            "1\n",
            "2\n",
            "3\n",
            "4\n"
          ]
        }
      ]
    },
    {
      "cell_type": "markdown",
      "source": [
        " **14. Describe a scenario where a while loop is more suitable than a for loop.**\n",
        " - A while loop is more suitable than a for loop when the number of iterations is not known in advance and depends on a condition being met during execution.\n",
        "    - Scenario Example:\n",
        "\n",
        "    - User Input Validation:\n",
        "\n",
        "Imagine you're writing a program that asks a user to enter a password, and you want to keep prompting them until they enter the correct one."
      ],
      "metadata": {
        "id": "uQM3-JjN3JVe"
      }
    },
    {
      "cell_type": "code",
      "source": [
        "correct_password = \"Sourav147\"\n",
        "user_input = input(\"Enter your password: \")\n",
        "\n",
        "while user_input != correct_password:\n",
        "    print(\"Incorrect password, try again.\")\n",
        "    user_input = input(\"Enter your password: \")\n",
        "\n",
        "print(\"Access granted.\")"
      ],
      "metadata": {
        "colab": {
          "base_uri": "https://localhost:8080/"
        },
        "id": "4PZ_e7mF44ZX",
        "outputId": "8fd49ec4-72f0-4775-9db0-3ff500b41133"
      },
      "execution_count": 19,
      "outputs": [
        {
          "output_type": "stream",
          "name": "stdout",
          "text": [
            "Enter your password: sourav147\n",
            "Incorrect password, try again.\n",
            "Enter your password: Sourav147\n",
            "Access granted.\n"
          ]
        }
      ]
    },
    {
      "cell_type": "markdown",
      "source": [
        "# **Practical Questions**"
      ],
      "metadata": {
        "id": "n1Cl-bdV50dN"
      }
    },
    {
      "cell_type": "markdown",
      "source": [
        "**1. Write a Python program to print \"Hello World!**"
      ],
      "metadata": {
        "id": "fBWPi8bn6Mwj"
      }
    },
    {
      "cell_type": "code",
      "source": [
        "#Answer\n",
        "# python program to print \"Hello World!\"\n",
        "print(\"Hello World!\")"
      ],
      "metadata": {
        "colab": {
          "base_uri": "https://localhost:8080/"
        },
        "id": "TUUXBeYVBHYx",
        "outputId": "6980f299-f0e0-47ac-cab2-aaf6ce5fcdaa"
      },
      "execution_count": 20,
      "outputs": [
        {
          "output_type": "stream",
          "name": "stdout",
          "text": [
            "Hello World!\n"
          ]
        }
      ]
    },
    {
      "cell_type": "markdown",
      "source": [
        "**2. Write a Python program that displays your name and age.**"
      ],
      "metadata": {
        "id": "Kb91JejCBtyr"
      }
    },
    {
      "cell_type": "code",
      "source": [
        "#Answer\n",
        "#Python program that display my name & age\n",
        "name = \"Sourav kumar\"\n",
        "age = 21\n",
        "print(\"My name is\", name)\n",
        "print(\"My age is\", age, \"years\")"
      ],
      "metadata": {
        "colab": {
          "base_uri": "https://localhost:8080/"
        },
        "id": "kZshgV0UB2Kj",
        "outputId": "4f7fe397-edb7-4fff-b353-294a33477430"
      },
      "execution_count": 25,
      "outputs": [
        {
          "output_type": "stream",
          "name": "stdout",
          "text": [
            "My name is Sourav kumar\n",
            "My age is 21 years\n"
          ]
        }
      ]
    },
    {
      "cell_type": "markdown",
      "source": [
        "**3. Write code to print all the pre-defined keywords in Python using the keyword library.**"
      ],
      "metadata": {
        "id": "CaSXvhEADoJL"
      }
    },
    {
      "cell_type": "code",
      "source": [
        "#Answer\n",
        "import keyword\n",
        "\n",
        "# Get the list of all keywords\n",
        "keywords = keyword.kwlist\n",
        "\n",
        "# Print the keywords\n",
        "print(\"Python Keywords:\")\n",
        "for kw in keywords:\n",
        "    print(kw)"
      ],
      "metadata": {
        "colab": {
          "base_uri": "https://localhost:8080/"
        },
        "id": "5loLQUl8EDa5",
        "outputId": "0f03d3be-c3db-4443-a50c-d57db403ce82"
      },
      "execution_count": 27,
      "outputs": [
        {
          "output_type": "stream",
          "name": "stdout",
          "text": [
            "Python Keywords:\n",
            "False\n",
            "None\n",
            "True\n",
            "and\n",
            "as\n",
            "assert\n",
            "async\n",
            "await\n",
            "break\n",
            "class\n",
            "continue\n",
            "def\n",
            "del\n",
            "elif\n",
            "else\n",
            "except\n",
            "finally\n",
            "for\n",
            "from\n",
            "global\n",
            "if\n",
            "import\n",
            "in\n",
            "is\n",
            "lambda\n",
            "nonlocal\n",
            "not\n",
            "or\n",
            "pass\n",
            "raise\n",
            "return\n",
            "try\n",
            "while\n",
            "with\n",
            "yield\n"
          ]
        }
      ]
    },
    {
      "cell_type": "markdown",
      "source": [
        "**4. Write a program that checks if a given word is a Python keyword.**"
      ],
      "metadata": {
        "id": "ZtHxh4xVEk11"
      }
    },
    {
      "cell_type": "code",
      "source": [
        "#Answer\n",
        "import keyword\n",
        "\n",
        "# Get user input\n",
        "word = input(\"Enter a word to check: \")\n",
        "\n",
        "# Check if the word is a Python keyword\n",
        "if keyword.iskeyword(word):\n",
        "    print(f\"'{word}' is a Python keyword.\")\n",
        "else:\n",
        "    print(f\"'{word}' is NOT a Python keyword.\")"
      ],
      "metadata": {
        "colab": {
          "base_uri": "https://localhost:8080/"
        },
        "id": "PlQVy-tiGfpy",
        "outputId": "cb4b36ea-cbc1-44ce-f07c-fc79c14b383b"
      },
      "execution_count": 32,
      "outputs": [
        {
          "output_type": "stream",
          "name": "stdout",
          "text": [
            "Enter a word to check: def\n",
            "'def' is a Python keyword.\n"
          ]
        }
      ]
    },
    {
      "cell_type": "markdown",
      "source": [
        "**5. Create a list and tuple in Python, and demonstrate how attempting to change an element works differently\n",
        "for each.**"
      ],
      "metadata": {
        "id": "vvg6RCkSJQo9"
      }
    },
    {
      "cell_type": "code",
      "source": [
        "#Answer\n",
        "# Create a list\n",
        "my_list = [1, 2, 3]\n",
        "print(my_list)          #original list : [1, 2, 3]\n",
        "my_list[0] = 10\n",
        "print(my_list)          #modified list : (10, 2, 3)\n",
        "\n",
        "\n",
        "\n",
        "\n"
      ],
      "metadata": {
        "colab": {
          "base_uri": "https://localhost:8080/"
        },
        "id": "ZvbmhBgbJazL",
        "outputId": "53b922f6-8e5f-4c90-949f-31784ae0d902"
      },
      "execution_count": 39,
      "outputs": [
        {
          "output_type": "stream",
          "name": "stdout",
          "text": [
            "[1, 2, 3]\n",
            "[10, 2, 3]\n"
          ]
        }
      ]
    },
    {
      "cell_type": "code",
      "source": [
        "#create a tuple\n",
        "# Create a tuple\n",
        "my_tuple = (1, 2, 3)\n",
        "my_tuple(0) = 10        #this will raise an error\n",
        "\n",
        "#'tuple' object does not support item assignment"
      ],
      "metadata": {
        "colab": {
          "base_uri": "https://localhost:8080/",
          "height": 106
        },
        "id": "R5Gsm3FbQUhj",
        "outputId": "3b29ed0d-89b0-48ec-a7b7-31da7c4642f0"
      },
      "execution_count": 38,
      "outputs": [
        {
          "output_type": "error",
          "ename": "SyntaxError",
          "evalue": "cannot assign to function call here. Maybe you meant '==' instead of '='? (<ipython-input-38-0ea52af4e6b0>, line 4)",
          "traceback": [
            "\u001b[0;36m  File \u001b[0;32m\"<ipython-input-38-0ea52af4e6b0>\"\u001b[0;36m, line \u001b[0;32m4\u001b[0m\n\u001b[0;31m    my_tuple(0) = 10        #this will raise an error\u001b[0m\n\u001b[0m    ^\u001b[0m\n\u001b[0;31mSyntaxError\u001b[0m\u001b[0;31m:\u001b[0m cannot assign to function call here. Maybe you meant '==' instead of '='?\n"
          ]
        }
      ]
    },
    {
      "cell_type": "markdown",
      "source": [
        "**6. Write a function to demonstrate the behavior of mutable and immutable arguments**"
      ],
      "metadata": {
        "id": "S6d_slrGQ9jv"
      }
    },
    {
      "cell_type": "code",
      "source": [
        "#Answer\n",
        "def modify_args(immutable, mutable):\n",
        "    immutable += 10\n",
        "    mutable.append(4)\n",
        "    print(\"Inside the function:\")\n",
        "    print(\"Immutable:\", immutable)\n",
        "    print(\"Mutable:\", mutable)\n",
        "\n",
        "# Immutable argument (integer)\n",
        "num = 5\n",
        "# Mutable argument (list)\n",
        "my_list = [1, 2, 3]\n",
        "\n",
        "print(\"Before function call:\")\n",
        "print(\"Immutable:\", num)\n",
        "print(\"Mutable:\", my_list)\n",
        "\n",
        "modify_args(num, my_list)\n",
        "\n",
        "print(\"After function call:\")\n",
        "print(\"Immutable:\", num)\n",
        "print(\"Mutable:\", my_list)"
      ],
      "metadata": {
        "colab": {
          "base_uri": "https://localhost:8080/"
        },
        "id": "lAvtyTyoREQo",
        "outputId": "9d418473-cde1-4edd-cabe-b143c43e9512"
      },
      "execution_count": 40,
      "outputs": [
        {
          "output_type": "stream",
          "name": "stdout",
          "text": [
            "Before function call:\n",
            "Immutable: 5\n",
            "Mutable: [1, 2, 3]\n",
            "Inside the function:\n",
            "Immutable: 15\n",
            "Mutable: [1, 2, 3, 4]\n",
            "After function call:\n",
            "Immutable: 5\n",
            "Mutable: [1, 2, 3, 4]\n"
          ]
        }
      ]
    },
    {
      "cell_type": "markdown",
      "source": [
        "**7. Write a program that performs basic arithmetic operations on two user-input numbers.**"
      ],
      "metadata": {
        "id": "zCWHp0fXSAlB"
      }
    },
    {
      "cell_type": "code",
      "source": [
        "#Answer\n",
        "def arithmetic_calculator():\n",
        "    \"\"\"\n",
        "    Prompts the user to enter two numbers and an operator, then performs the\n",
        "    corresponding arithmetic operation.\n",
        "    \"\"\"\n",
        "\n",
        "    try:\n",
        "        num1 = float(input(\"Enter the first number: \"))\n",
        "        num2 = float(input(\"Enter the second number: \"))\n",
        "        operator = input(\"Enter the operator (+, -, *, /): \")\n",
        "\n",
        "        if operator == '+':\n",
        "            result = num1 + num2\n",
        "            print(f\"{num1} + {num2} = {result}\")\n",
        "        elif operator == '-':\n",
        "            result = num1 - num2\n",
        "            print(f\"{num1} - {num2} = {result}\")\n",
        "        elif operator == '*':\n",
        "            result = num1 * num2\n",
        "            print(f\"{num1} * {num2} = {result}\")\n",
        "        elif operator == '/':\n",
        "            if num2 == 0:\n",
        "                print(\"Error: Division by zero is not allowed.\")\n",
        "            else:\n",
        "                result = num1 / num2\n",
        "                print(f\"{num1} / {num2} = {result}\")\n",
        "        else:\n",
        "            print(\"Error: Invalid operator. Please use +, -, *, or /.\")\n",
        "\n",
        "    except ValueError:\n",
        "        print(\"Error: Invalid input. Please enter numbers.\")\n",
        "\n",
        "\n",
        "if __name__ == \"__main__\":\n",
        "    arithmetic_calculator()"
      ],
      "metadata": {
        "colab": {
          "base_uri": "https://localhost:8080/"
        },
        "id": "QNG6O3IgSdDk",
        "outputId": "ac455b8e-5012-45a0-d61c-86926133ca22"
      },
      "execution_count": 42,
      "outputs": [
        {
          "output_type": "stream",
          "name": "stdout",
          "text": [
            "Enter the first number: 465451\n",
            "Enter the second number: 48584\n",
            "Enter the operator (+, -, *, /): +\n",
            "465451.0 + 48584.0 = 514035.0\n"
          ]
        }
      ]
    },
    {
      "cell_type": "markdown",
      "source": [
        "**8. Write a program to demonstrate the use of logical operators.**"
      ],
      "metadata": {
        "id": "SOf4k7vASp57"
      }
    },
    {
      "cell_type": "code",
      "source": [
        "#Answer\n",
        "# Program to demonstrate logical operators in Python\n",
        "\n",
        "# Define two variables\n",
        "a = 25\n",
        "b = 27\n",
        "\n",
        "print(\"a =\", a)\n",
        "print(\"b =\", b)\n",
        "\n",
        "# Using 'and' operator\n",
        "print(\"\\nUsing 'and' operator:\")\n",
        "print(\"a > 5 and b > 15:\", a > 5 and b > 15)  # True and True => True\n",
        "print(\"a > 15 and b > 15:\", a > 15 and b > 15)  # False and True => False\n",
        "\n",
        "# Using 'or' operator\n",
        "print(\"\\nUsing 'or' operator:\")\n",
        "print(\"a > 15 or b > 15:\", a > 15 or b > 15)  # False or True => True\n",
        "print(\"a > 15 or b < 10:\", a > 15 or b < 10)  # False or False => False\n",
        "\n",
        "# Using 'not' operator\n",
        "print(\"\\nUsing 'not' operator:\")\n",
        "print(\"not(a > 15):\", not(a > 15))  # not(False) => True\n",
        "print(\"not(b < 10):\", not(b < 10))  # not(False) => Tru"
      ],
      "metadata": {
        "colab": {
          "base_uri": "https://localhost:8080/"
        },
        "id": "REAtOiAITKY-",
        "outputId": "5a16a6f9-6c24-405e-e38a-f0bd44559482"
      },
      "execution_count": 45,
      "outputs": [
        {
          "output_type": "stream",
          "name": "stdout",
          "text": [
            "a = 25\n",
            "b = 27\n",
            "\n",
            "Using 'and' operator:\n",
            "a > 5 and b > 15: True\n",
            "a > 15 and b > 15: True\n",
            "\n",
            "Using 'or' operator:\n",
            "a > 15 or b > 15: True\n",
            "a > 15 or b < 10: True\n",
            "\n",
            "Using 'not' operator:\n",
            "not(a > 15): False\n",
            "not(b < 10): True\n"
          ]
        }
      ]
    },
    {
      "cell_type": "markdown",
      "source": [
        "**9. Write a Python program to convert user input from string to integer, float, and boolean types**."
      ],
      "metadata": {
        "id": "jLUnG0CIUBSf"
      }
    },
    {
      "cell_type": "code",
      "source": [
        "#Answer\n",
        "\n",
        "# Program to convert user input to int, float, and bool\n",
        "\n",
        "# Get user input as string\n",
        "user_input = input(\"Enter a value: \")\n",
        "\n",
        "# Convert to integer\n",
        "try:\n",
        "    int_value = int(user_input)\n",
        "    print(\"Integer value:\", int_value)\n",
        "except ValueError:\n",
        "    print(\"Cannot convert to integer.\")\n",
        "\n",
        "# Convert to float\n",
        "try:\n",
        "    float_value = float(user_input)\n",
        "    print(\"Float value:\", float_value)\n",
        "except ValueError:\n",
        "    print(\"Cannot convert to float.\")\n",
        "\n",
        "# Convert to boolean\n",
        "# Any non-empty string except \"False\", \"false\", \"0\", or empty string is considered True\n",
        "bool_value = user_input.strip().lower() not in (\"false\", \"0\", \"\")\n",
        "print(\"Boolean value:\", bool_value)"
      ],
      "metadata": {
        "colab": {
          "base_uri": "https://localhost:8080/"
        },
        "id": "mKFlH3YNUNJG",
        "outputId": "68283ac7-a78d-4d06-c073-d4eddcc28375"
      },
      "execution_count": 48,
      "outputs": [
        {
          "output_type": "stream",
          "name": "stdout",
          "text": [
            "Enter a value: 7\n",
            "Integer value: 7\n",
            "Float value: 7.0\n",
            "Boolean value: True\n"
          ]
        }
      ]
    },
    {
      "cell_type": "markdown",
      "source": [
        "**10. Write code to demonstrate type casting with list elements.**"
      ],
      "metadata": {
        "id": "Qp2MyXeEU61q"
      }
    },
    {
      "cell_type": "code",
      "source": [
        "#Answer\n",
        "# Program to demonstrate type casting with list elements\n",
        "\n",
        "# List with string elements\n",
        "str_list = ['15', '20', '25', '37.5', 'True', 'False']\n",
        "\n",
        "print(\"Original list:\", str_list)\n",
        "\n",
        "# Convert string elements to integers (only valid integer strings)\n",
        "int_list = []\n",
        "for item in str_list:\n",
        "    try:\n",
        "        int_list.append(int(float(item)))  # use float first in case of '40.5'\n",
        "    except ValueError:\n",
        "        int_list.append(None)  # Handle invalid conversions\n",
        "\n",
        "print(\"List with elements cast to integers:\", int_list)\n",
        "\n",
        "# Convert string elements to float\n",
        "float_list = []\n",
        "for item in str_list:\n",
        "    try:\n",
        "        float_list.append(float(item))\n",
        "    except ValueError:\n",
        "        float_list.append(None)\n",
        "\n",
        "print(\"List with elements cast to floats:\", float_list)\n",
        "\n",
        "# Convert string elements to boolean\n",
        "bool_list = [item.strip().lower() not in (\"false\", \"0\", \"\", \"none\") for item in str_list]\n",
        "print(\"List with elements cast to booleans:\", bool_list)"
      ],
      "metadata": {
        "colab": {
          "base_uri": "https://localhost:8080/"
        },
        "id": "tk_szWMzVB0g",
        "outputId": "e6b08e89-a3da-4680-d1c2-4f03e0283ddb"
      },
      "execution_count": 50,
      "outputs": [
        {
          "output_type": "stream",
          "name": "stdout",
          "text": [
            "Original list: ['15', '20', '25', '37.5', 'True', 'False']\n",
            "List with elements cast to integers: [15, 20, 25, 37, None, None]\n",
            "List with elements cast to floats: [15.0, 20.0, 25.0, 37.5, None, None]\n",
            "List with elements cast to booleans: [True, True, True, True, True, False]\n"
          ]
        }
      ]
    },
    {
      "cell_type": "markdown",
      "source": [
        "**11. Write a program that checks if a number is positive, negative, or zero.**"
      ],
      "metadata": {
        "id": "JZgeTM2LVved"
      }
    },
    {
      "cell_type": "code",
      "source": [
        "#Answer\n",
        "# Get input from the user\n",
        "num = float(input(\"Enter a number: \"))\n",
        "\n",
        "# Check the number's sign\n",
        "if num > 0:\n",
        "    print(\"The number is positive.\")\n",
        "elif num < 0:\n",
        "    print(\"The number is negative.\")\n",
        "else:\n",
        "    print(\"The number is zero.\")"
      ],
      "metadata": {
        "colab": {
          "base_uri": "https://localhost:8080/"
        },
        "id": "WD2enxFGV5Ca",
        "outputId": "18131f18-f426-4da3-b0fc-2ef597fe90e8"
      },
      "execution_count": 51,
      "outputs": [
        {
          "output_type": "stream",
          "name": "stdout",
          "text": [
            "Enter a number: 5\n",
            "The number is positive.\n"
          ]
        }
      ]
    },
    {
      "cell_type": "markdown",
      "source": [
        "**12. Write a for loop to print numbers from 1 to 10.**"
      ],
      "metadata": {
        "id": "3RDLdw6tWapl"
      }
    },
    {
      "cell_type": "code",
      "source": [
        "#Answer\n",
        "for i in range(1, 11):\n",
        "    print(i)\n"
      ],
      "metadata": {
        "colab": {
          "base_uri": "https://localhost:8080/"
        },
        "id": "vXplPRhmWcrQ",
        "outputId": "2b2c4962-fd9e-4ac3-f55f-11da97368075"
      },
      "execution_count": 52,
      "outputs": [
        {
          "output_type": "stream",
          "name": "stdout",
          "text": [
            "1\n",
            "2\n",
            "3\n",
            "4\n",
            "5\n",
            "6\n",
            "7\n",
            "8\n",
            "9\n",
            "10\n"
          ]
        }
      ]
    },
    {
      "cell_type": "markdown",
      "source": [
        "**13. Write a Python program to find the sum of all even numbers between 1 and 50.**"
      ],
      "metadata": {
        "id": "0hu5-U3TW581"
      }
    },
    {
      "cell_type": "code",
      "source": [
        "#Answer\n",
        "# Initialize the sum\n",
        "even_sum = 0\n",
        "\n",
        "# Loop through numbers from 1 to 50\n",
        "for i in range(1, 51):\n",
        "    if i % 2 == 0:\n",
        "        even_sum += i\n",
        "\n",
        "# Print the result\n",
        "print(\"The sum of all even numbers from 1 to 50 is:\", even_sum)"
      ],
      "metadata": {
        "colab": {
          "base_uri": "https://localhost:8080/"
        },
        "id": "S2nQjpTjXA0Z",
        "outputId": "4df97959-85b2-4a9e-d64f-19e64d4b7c3f"
      },
      "execution_count": 53,
      "outputs": [
        {
          "output_type": "stream",
          "name": "stdout",
          "text": [
            "The sum of all even numbers from 1 to 50 is: 650\n"
          ]
        }
      ]
    },
    {
      "cell_type": "markdown",
      "source": [
        "**14. Write a program to reverse a string using a while loop.**"
      ],
      "metadata": {
        "id": "dPpK5DKbXeBl"
      }
    },
    {
      "cell_type": "code",
      "source": [
        "#Answer\n",
        "# Input string\n",
        "original = input(\"Enter a string: \")\n",
        "\n",
        "# Initialize variables\n",
        "reversed_str = \"\"\n",
        "index = len(original) - 1\n",
        "\n",
        "# Use a while loop to reverse the string\n",
        "while index >= 0:\n",
        "    reversed_str += original[index]\n",
        "    index -= 1\n",
        "\n",
        "# Print the reversed string\n",
        "print(\"Reversed string:\", reversed_str)"
      ],
      "metadata": {
        "colab": {
          "base_uri": "https://localhost:8080/"
        },
        "id": "JEh0IXKzXi_k",
        "outputId": "8ac9281f-ce70-481b-ed24-13120fb97f5c"
      },
      "execution_count": 54,
      "outputs": [
        {
          "output_type": "stream",
          "name": "stdout",
          "text": [
            "Enter a string: 25\n",
            "Reversed string: 52\n"
          ]
        }
      ]
    },
    {
      "cell_type": "markdown",
      "source": [
        "**15. Write a Python program to calculate the factorial of a number provided by the user using a while loop**"
      ],
      "metadata": {
        "id": "qwVHqx0PX_Ve"
      }
    },
    {
      "cell_type": "code",
      "source": [
        "\n",
        "#Answer\n",
        " #Get input from the user\n",
        "num = int(input(\"Enter a number to calculate its factorial: \"))\n",
        "\n",
        "# Initialize the factorial result\n",
        "factorial = 1\n",
        "n = num\n",
        "\n",
        "# Handle case for negative numbers\n",
        "if num < 0:\n",
        "    print(\"Factorial is not defined for negative numbers.\")\n",
        "else:\n",
        "    while n > 1:\n",
        "        factorial *= n\n",
        "        n -= 1\n",
        "    print(f\"The factorial of {num} is {factorial}\")"
      ],
      "metadata": {
        "colab": {
          "base_uri": "https://localhost:8080/"
        },
        "id": "UsEOEYEeYFAx",
        "outputId": "30a67186-563b-487f-8fdc-ddc755bf4c2a"
      },
      "execution_count": 59,
      "outputs": [
        {
          "output_type": "stream",
          "name": "stdout",
          "text": [
            "Enter a number to calculate its factorial: 1\n",
            "The factorial of 1 is 1\n"
          ]
        }
      ]
    }
  ]
}